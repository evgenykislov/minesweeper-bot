{
 "cells": [
  {
   "cell_type": "code",
   "execution_count": 15,
   "metadata": {},
   "outputs": [],
   "source": [
    "# Author: Evgeny Kislov"
   ]
  },
  {
   "cell_type": "code",
   "execution_count": 16,
   "metadata": {},
   "outputs": [],
   "source": [
    "import random\n",
    "import numpy"
   ]
  },
  {
   "cell_type": "code",
   "execution_count": 17,
   "metadata": {},
   "outputs": [],
   "source": [
    "# Generate mines field\n",
    "# cell values:\n",
    "# space - out from playing ground\n",
    "# * - mine\n",
    "# 0 - 8 - number of mines around (if we are not on a mine)\n",
    "def GenerateField(rowAmount, colAmount, minesAmount):\n",
    "    minesList = random.sample(range(rowAmount * colAmount), minesAmount)\n",
    "    field = numpy.zeros((rowAmount, colAmount), numpy.int)\n",
    "    for index in minesList:\n",
    "        row = index // colAmount\n",
    "        col = index % colAmount\n",
    "        field[row][col] = -1;\n",
    "    for row in range(rowAmount):\n",
    "        for col in range(colAmount):\n",
    "            if field[row][col] ==  -1:\n",
    "                continue\n",
    "            amount = 0;\n",
    "            for r in range(row - 1, row + 2):\n",
    "                for c in range(col -1, col + 2):\n",
    "                    if (r < 0 or r >= rowAmount):\n",
    "                        continue\n",
    "                    if (c < 0 or c >= colAmount):\n",
    "                        continue\n",
    "                    if field[r][c] == -1:\n",
    "                        amount += 1\n",
    "            field[row][col] = amount\n",
    "    # store field as symbols\n",
    "    rows = []\n",
    "    for row in range(rowAmount):\n",
    "        line = []\n",
    "        for col in range(colAmount):\n",
    "            if field[row][col] == -1:\n",
    "                line.append('*')\n",
    "            else:\n",
    "                line.append(str(field[row][col]))\n",
    "        rows.append(''.join(line))\n",
    "    return rows"
   ]
  },
  {
   "cell_type": "code",
   "execution_count": 18,
   "metadata": {},
   "outputs": [
    {
     "name": "stdout",
     "output_type": "stream",
     "text": [
      "Mines field generator\n",
      "How many rows: \n",
      "16\n",
      "How many columns: \n",
      "30\n",
      "How many mines: \n",
      "99\n",
      "How many field instances: \n",
      "100\n",
      "Field start index: \n",
      "0\n",
      "Completed\n"
     ]
    }
   ],
   "source": [
    "# main\n",
    "print(\"Mines field generator\")\n",
    "# input user parameters\n",
    "print(\"How many rows: \")\n",
    "row = int(input())\n",
    "print(\"How many columns: \")\n",
    "col = int(input())\n",
    "print(\"How many mines: \")\n",
    "mines = int(input())\n",
    "print(\"How many field instances: \")\n",
    "fields = int(input())\n",
    "print(\"Field start index: \")\n",
    "field_start_index = int(input())\n",
    "\n",
    "for field_index in range(fields):\n",
    "    field = GenerateField(row, col, mines)\n",
    "    file_name = \"field_{row}x{col}_{index:05d}.txt\".format(row = row, col = col, index = field_index + field_start_index)\n",
    "    with open(file_name, 'x') as storage:\n",
    "        for line in field:\n",
    "            print(line, file = storage)\n",
    "\n",
    "print(\"Completed\")\n"
   ]
  },
  {
   "cell_type": "code",
   "execution_count": null,
   "metadata": {},
   "outputs": [],
   "source": []
  }
 ],
 "metadata": {
  "kernelspec": {
   "display_name": "Python 3",
   "language": "python",
   "name": "python3"
  },
  "language_info": {
   "codemirror_mode": {
    "name": "ipython",
    "version": 3
   },
   "file_extension": ".py",
   "mimetype": "text/x-python",
   "name": "python",
   "nbconvert_exporter": "python",
   "pygments_lexer": "ipython3",
   "version": "3.6.7"
  }
 },
 "nbformat": 4,
 "nbformat_minor": 2
}
