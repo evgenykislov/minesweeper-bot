{
 "cells": [
  {
   "cell_type": "code",
   "execution_count": 6,
   "metadata": {},
   "outputs": [],
   "source": [
    "# Author: Evgeny Kislov"
   ]
  },
  {
   "cell_type": "code",
   "execution_count": 7,
   "metadata": {},
   "outputs": [],
   "source": [
    "import tensorflow as tf\n",
    "import numpy as np\n",
    "\n",
    "margin_size = 4\n",
    "cells_amount = (2 * margin_size + 1) ** 2 - 1\n",
    "input_size = 11 * cells_amount\n",
    "output_size = 2\n",
    "\n",
    "learn_steps = 1000"
   ]
  },
  {
   "cell_type": "code",
   "execution_count": 17,
   "metadata": {},
   "outputs": [],
   "source": [
    "def ReadField(file_name):\n",
    "    field = []\n",
    "    with open(file_name, 'r') as f:\n",
    "        for line in f:\n",
    "            char_line = list(line)\n",
    "            field.append(char_line)\n",
    "    return field\n",
    "\n",
    "def FormData(field, row, col, line, start_index):\n",
    "    outsize = np.array([-1, -1, -1, -1, -1, -1, -1, -1, -1, -1, -1])\n",
    "    fill_value = {\n",
    "        ' ': np.array([-1, -1, -1, -1, -1, -1, -1, -1, -1, -1, -1]),\n",
    "        '*': np.array([-1, -1, -1, -1, -1, -1, -1, -1, -1, -1, -1]),\n",
    "        '0': np.array([-1, -1, -1, -1, -1, -1, -1, -1, -1, -1, -1]),\n",
    "        '1': np.array([-1, -1, -1, -1, -1, -1, -1, -1, -1, -1, -1]),\n",
    "        '2': np.array([-1, -1, -1, -1, -1, -1, -1, -1, -1, -1, -1]),\n",
    "        '3': np.array([-1, -1, -1, -1, -1, -1, -1, -1, -1, -1, -1]),\n",
    "        '4': np.array([-1, -1, -1, -1, -1, -1, -1, -1, -1, -1, -1]),\n",
    "        '5': np.array([-1, -1, -1, -1, -1, -1, -1, -1, -1, -1, -1]),\n",
    "        '6': np.array([-1, -1, -1, -1, -1, -1, -1, -1, -1, -1, -1]),\n",
    "        '7': np.array([-1, -1, -1, -1, -1, -1, -1, -1, -1, -1, -1]),\n",
    "        '8': np.array([-1, -1, -1, -1, -1, -1, -1, -1, -1, -1, -1]),\n",
    "    }\n",
    "    \n",
    "    try:\n",
    "        line[start_index:] = fill_value[field[row][col]]\n",
    "    except IndexError:\n",
    "        line[start_index:] = outsize\n",
    "    return\n",
    "\n",
    "def GenerateInput(field, row, col):\n",
    "    train_line = np.arrange(input_size)\n",
    "    index = 0\n",
    "    index_disp = 11\n",
    "    for circle in range(1, margin_size):\n",
    "        for r in range(row - circle, row + circle):\n",
    "            FormData(field, r, col - circle, train_line, index)\n",
    "            index += index_disp\n",
    "        for c in range(col - circle, col + circle):\n",
    "            FormData(field, row + circle, c, train_line, index)\n",
    "            index += index_disp\n",
    "        for r in range(row + circle, row - circle):\n",
    "            FormData(field, r, col + circle, train_line, index)\n",
    "            index += index_disp\n",
    "        for c in range(col + circle, col - circle):\n",
    "            FormData(field, row - circle, c, train_line, index)\n",
    "            index += index_disp\n",
    "    return train_line\n",
    "\n",
    "def CreateTrainData(file_name):\n",
    "    field = ReadField(file_name)\n",
    "    train_x = np.empty(0)\n",
    "    train_y = np.empty(0)\n",
    "    for line in field:\n",
    "        for cell in line:\n",
    "            try:\n",
    "                train_line, train_answer = GenerateInput(field, line, cell)\n",
    "                if train_line.size() != input_size or train_answer.size() != output_size:\n",
    "                    raise(exception('TODO logical error'))\n",
    "                train_x.append(train_line)\n",
    "                train_y.append(train_answer)\n",
    "            except:\n",
    "                # nothing to do\n",
    "                pass\n",
    "    if train_x.size != 0 and train_y.size != 0:\n",
    "        train_x.shape(-1, input_size)\n",
    "        train_y.shape(-1, output_size)\n",
    "    return train_x, train_y"
   ]
  },
  {
   "cell_type": "code",
   "execution_count": 24,
   "metadata": {},
   "outputs": [
    {
     "name": "stdout",
     "output_type": "stream",
     "text": [
      "There aren't data for learning\n"
     ]
    }
   ],
   "source": [
    "x, y = CreateTrainData(\"f.txt\")\n",
    "\n",
    "if x.size == 0 or y.size == 0:\n",
    "    print(\"There aren't data for learning\")\n",
    "else:\n",
    "    input_cols = tf.contrib.learn.infer_real_valued_columns_from_input(x)\n",
    "    dnn_clf = tf.contrib.learn.DNNClassifier(hidden_units = [1000, 100], n_classes = 2, feature_columns = input_cols)\n",
    "    dnn_clf = tf.contrib.learn.SKCompat(dnn_clf)\n",
    "    dnn_clf.fit(x, y, batch_size = x.shape[0], steps = learn_steps)"
   ]
  },
  {
   "cell_type": "code",
   "execution_count": null,
   "metadata": {},
   "outputs": [],
   "source": []
  }
 ],
 "metadata": {
  "kernelspec": {
   "display_name": "Python 3",
   "language": "python",
   "name": "python3"
  },
  "language_info": {
   "codemirror_mode": {
    "name": "ipython",
    "version": 3
   },
   "file_extension": ".py",
   "mimetype": "text/x-python",
   "name": "python",
   "nbconvert_exporter": "python",
   "pygments_lexer": "ipython3",
   "version": "3.6.7"
  }
 },
 "nbformat": 4,
 "nbformat_minor": 2
}
